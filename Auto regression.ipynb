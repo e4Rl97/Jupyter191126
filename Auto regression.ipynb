{
 "cells": [
  {
   "cell_type": "markdown",
   "metadata": {},
   "source": [
    "# 自己回帰"
   ]
  },
  {
   "cell_type": "markdown",
   "metadata": {},
   "source": [
    "### データインポート"
   ]
  },
  {
   "cell_type": "code",
   "execution_count": 1,
   "metadata": {},
   "outputs": [],
   "source": [
    "data(BJsales)"
   ]
  },
  {
   "cell_type": "markdown",
   "metadata": {},
   "source": [
    "### プロット"
   ]
  },
  {
   "cell_type": "code",
   "execution_count": 2,
   "metadata": {},
   "outputs": [
    {
     "data": {
      "image/png": "[encoded data removed]",
      "text/plain": [
       "plot without title"
      ]
     },
     "metadata": {
      "image/png": {
       "height": 420,
       "width": 420
      },
      "text/plain": {
       "height": 420,
       "width": 420
      }
     },
     "output_type": "display_data"
    }
   ],
   "source": [
    "plot(BJsales)"
   ]
  },
  {
   "cell_type": "markdown",
   "metadata": {},
   "source": [
    "### 自己相関（コレログラム）"
   ]
  },
  {
   "cell_type": "code",
   "execution_count": 3,
   "metadata": {},
   "outputs": [
    {
     "data": {
      "image/png": "[encoded data removed]",
      "text/plain": [
       "Plot with title \"Series  BJsales\""
      ]
     },
     "metadata": {
      "image/png": {
       "height": 420,
       "width": 420
      },
      "text/plain": {
       "height": 420,
       "width": 420
      }
     },
     "output_type": "display_data"
    }
   ],
   "source": [
    "acf(BJsales)"
   ]
  },
  {
   "cell_type": "code",
   "execution_count": 4,
   "metadata": {},
   "outputs": [
    {
     "data": {
      "text/html": [
       "A Time Series:<br><ol class=list-inline>\n",
       "\t<li>200.1</li>\n",
       "\t<li>199.5</li>\n",
       "\t<li>199.4</li>\n",
       "\t<li>198.9</li>\n",
       "\t<li>199</li>\n",
       "\t<li>200.2</li>\n",
       "\t<li>198.6</li>\n",
       "\t<li>200</li>\n",
       "\t<li>200.3</li>\n",
       "\t<li>201.2</li>\n",
       "\t<li>201.6</li>\n",
       "\t<li>201.5</li>\n",
       "\t<li>201.5</li>\n",
       "\t<li>203.5</li>\n",
       "\t<li>204.9</li>\n",
       "\t<li>207.1</li>\n",
       "\t<li>210.5</li>\n",
       "\t<li>210.5</li>\n",
       "\t<li>209.8</li>\n",
       "\t<li>208.8</li>\n",
       "\t<li>209.5</li>\n",
       "\t<li>213.2</li>\n",
       "\t<li>213.7</li>\n",
       "\t<li>215.1</li>\n",
       "\t<li>218.7</li>\n",
       "\t<li>219.8</li>\n",
       "\t<li>220.5</li>\n",
       "\t<li>223.8</li>\n",
       "\t<li>222.8</li>\n",
       "\t<li>223.8</li>\n",
       "\t<li>221.7</li>\n",
       "\t<li>222.3</li>\n",
       "\t<li>220.8</li>\n",
       "\t<li>219.4</li>\n",
       "\t<li>220.1</li>\n",
       "\t<li>220.6</li>\n",
       "\t<li>218.9</li>\n",
       "\t<li>217.8</li>\n",
       "\t<li>217.7</li>\n",
       "\t<li>215</li>\n",
       "\t<li>215.3</li>\n",
       "\t<li>215.9</li>\n",
       "\t<li>216.7</li>\n",
       "\t<li>216.7</li>\n",
       "\t<li>217.7</li>\n",
       "\t<li>218.7</li>\n",
       "\t<li>222.9</li>\n",
       "\t<li>224.9</li>\n",
       "\t<li>222.2</li>\n",
       "\t<li>220.7</li>\n",
       "\t<li>220</li>\n",
       "\t<li>218.7</li>\n",
       "\t<li>217</li>\n",
       "\t<li>215.9</li>\n",
       "\t<li>215.8</li>\n",
       "\t<li>214.1</li>\n",
       "\t<li>212.3</li>\n",
       "\t<li>213.9</li>\n",
       "\t<li>214.6</li>\n",
       "\t<li>213.6</li>\n",
       "\t<li>212.1</li>\n",
       "\t<li>211.4</li>\n",
       "\t<li>213.1</li>\n",
       "\t<li>212.9</li>\n",
       "\t<li>213.3</li>\n",
       "\t<li>211.5</li>\n",
       "\t<li>212.3</li>\n",
       "\t<li>213</li>\n",
       "\t<li>211</li>\n",
       "\t<li>210.7</li>\n",
       "\t<li>210.1</li>\n",
       "\t<li>211.4</li>\n",
       "\t<li>210</li>\n",
       "\t<li>209.7</li>\n",
       "\t<li>208.8</li>\n",
       "\t<li>208.8</li>\n",
       "\t<li>208.8</li>\n",
       "\t<li>210.6</li>\n",
       "\t<li>211.9</li>\n",
       "\t<li>212.8</li>\n",
       "\t<li>212.5</li>\n",
       "\t<li>214.8</li>\n",
       "\t<li>215.3</li>\n",
       "\t<li>217.5</li>\n",
       "\t<li>218.8</li>\n",
       "\t<li>220.7</li>\n",
       "\t<li>222.2</li>\n",
       "\t<li>226.7</li>\n",
       "\t<li>228.4</li>\n",
       "\t<li>233.2</li>\n",
       "\t<li>235.7</li>\n",
       "\t<li>237.1</li>\n",
       "\t<li>240.6</li>\n",
       "\t<li>243.8</li>\n",
       "\t<li>245.3</li>\n",
       "\t<li>246</li>\n",
       "\t<li>246.3</li>\n",
       "\t<li>247.7</li>\n",
       "\t<li>247.6</li>\n",
       "\t<li>247.8</li>\n",
       "\t<li>249.4</li>\n",
       "\t<li>249</li>\n",
       "\t<li>249.9</li>\n",
       "\t<li>250.5</li>\n",
       "\t<li>251.5</li>\n",
       "\t<li>249</li>\n",
       "\t<li>247.6</li>\n",
       "\t<li>248.8</li>\n",
       "\t<li>250.4</li>\n",
       "\t<li>250.7</li>\n",
       "\t<li>253</li>\n",
       "\t<li>253.7</li>\n",
       "\t<li>255</li>\n",
       "\t<li>256.2</li>\n",
       "\t<li>256</li>\n",
       "\t<li>257.4</li>\n",
       "\t<li>260.4</li>\n",
       "\t<li>260</li>\n",
       "\t<li>261.3</li>\n",
       "\t<li>260.4</li>\n",
       "\t<li>261.6</li>\n",
       "\t<li>260.8</li>\n",
       "\t<li>259.8</li>\n",
       "\t<li>259</li>\n",
       "\t<li>258.9</li>\n",
       "\t<li>257.4</li>\n",
       "\t<li>257.7</li>\n",
       "\t<li>257.9</li>\n",
       "\t<li>257.4</li>\n",
       "\t<li>257.3</li>\n",
       "\t<li>257.6</li>\n",
       "\t<li>258.9</li>\n",
       "\t<li>257.8</li>\n",
       "\t<li>257.7</li>\n",
       "\t<li>257.2</li>\n",
       "\t<li>257.5</li>\n",
       "\t<li>256.8</li>\n",
       "\t<li>257.5</li>\n",
       "\t<li>257</li>\n",
       "\t<li>257.6</li>\n",
       "\t<li>257.3</li>\n",
       "\t<li>257.5</li>\n",
       "\t<li>259.6</li>\n",
       "\t<li>261.1</li>\n",
       "\t<li>262.9</li>\n",
       "\t<li>263.3</li>\n",
       "\t<li>262.8</li>\n",
       "\t<li>261.8</li>\n",
       "\t<li>262.2</li>\n",
       "\t<li>262.7</li>\n",
       "</ol>\n"
      ],
      "text/latex": [
       "A Time Series:\\\\\\begin{enumerate*}\n",
       "\\item 200.1\n",
       "\\item 199.5\n",
       "\\item 199.4\n",
       "\\item 198.9\n",
       "\\item 199\n",
       "\\item 200.2\n",
       "\\item 198.6\n",
       "\\item 200\n",
       "\\item 200.3\n",
       "\\item 201.2\n",
       "\\item 201.6\n",
       "\\item 201.5\n",
       "\\item 201.5\n",
       "\\item 203.5\n",
       "\\item 204.9\n",
       "\\item 207.1\n",
       "\\item 210.5\n",
       "\\item 210.5\n",
       "\\item 209.8\n",
       "\\item 208.8\n",
       "\\item 209.5\n",
       "\\item 213.2\n",
       "\\item 213.7\n",
       "\\item 215.1\n",
       "\\item 218.7\n",
       "\\item 219.8\n",
       "\\item 220.5\n",
       "\\item 223.8\n",
       "\\item 222.8\n",
       "\\item 223.8\n",
       "\\item 221.7\n",
       "\\item 222.3\n",
       "\\item 220.8\n",
       "\\item 219.4\n",
       "\\item 220.1\n",
       "\\item 220.6\n",
       "\\item 218.9\n",
       "\\item 217.8\n",
       "\\item 217.7\n",
       "\\item 215\n",
       "\\item 215.3\n",
       "\\item 215.9\n",
       "\\item 216.7\n",
       "\\item 216.7\n",
       "\\item 217.7\n",
       "\\item 218.7\n",
       "\\item 222.9\n",
       "\\item 224.9\n",
       "\\item 222.2\n",
       "\\item 220.7\n",
       "\\item 220\n",
       "\\item 218.7\n",
       "\\item 217\n",
       "\\item 215.9\n",
       "\\item 215.8\n",
       "\\item 214.1\n",
       "\\item 212.3\n",
       "\\item 213.9\n",
       "\\item 214.6\n",
       "\\item 213.6\n",
       "\\item 212.1\n",
       "\\item 211.4\n",
       "\\item 213.1\n",
       "\\item 212.9\n",
       "\\item 213.3\n",
       "\\item 211.5\n",
       "\\item 212.3\n",
       "\\item 213\n",
       "\\item 211\n",
       "\\item 210.7\n",
       "\\item 210.1\n",
       "\\item 211.4\n",
       "\\item 210\n",
       "\\item 209.7\n",
       "\\item 208.8\n",
       "\\item 208.8\n",
       "\\item 208.8\n",
       "\\item 210.6\n",
       "\\item 211.9\n",
       "\\item 212.8\n",
       "\\item 212.5\n",
       "\\item 214.8\n",
       "\\item 215.3\n",
       "\\item 217.5\n",
       "\\item 218.8\n",
       "\\item 220.7\n",
       "\\item 222.2\n",
       "\\item 226.7\n",
       "\\item 228.4\n",
       "\\item 233.2\n",
       "\\item 235.7\n",
       "\\item 237.1\n",
       "\\item 240.6\n",
       "\\item 243.8\n",
       "\\item 245.3\n",
       "\\item 246\n",
       "\\item 246.3\n",
       "\\item 247.7\n",
       "\\item 247.6\n",
       "\\item 247.8\n",
       "\\item 249.4\n",
       "\\item 249\n",
       "\\item 249.9\n",
       "\\item 250.5\n",
       "\\item 251.5\n",
       "\\item 249\n",
       "\\item 247.6\n",
       "\\item 248.8\n",
       "\\item 250.4\n",
       "\\item 250.7\n",
       "\\item 253\n",
       "\\item 253.7\n",
       "\\item 255\n",
       "\\item 256.2\n",
       "\\item 256\n",
       "\\item 257.4\n",
       "\\item 260.4\n",
       "\\item 260\n",
       "\\item 261.3\n",
       "\\item 260.4\n",
       "\\item 261.6\n",
       "\\item 260.8\n",
       "\\item 259.8\n",
       "\\item 259\n",
       "\\item 258.9\n",
       "\\item 257.4\n",
       "\\item 257.7\n",
       "\\item 257.9\n",
       "\\item 257.4\n",
       "\\item 257.3\n",
       "\\item 257.6\n",
       "\\item 258.9\n",
       "\\item 257.8\n",
       "\\item 257.7\n",
       "\\item 257.2\n",
       "\\item 257.5\n",
       "\\item 256.8\n",
       "\\item 257.5\n",
       "\\item 257\n",
       "\\item 257.6\n",
       "\\item 257.3\n",
       "\\item 257.5\n",
       "\\item 259.6\n",
       "\\item 261.1\n",
       "\\item 262.9\n",
       "\\item 263.3\n",
       "\\item 262.8\n",
       "\\item 261.8\n",
       "\\item 262.2\n",
       "\\item 262.7\n",
       "\\end{enumerate*}\n"
      ],
      "text/markdown": [
       "A Time Series:  \n",
       "1. 200.1\n",
       "2. 199.5\n",
       "3. 199.4\n",
       "4. 198.9\n",
       "5. 199\n",
       "6. 200.2\n",
       "7. 198.6\n",
       "8. 200\n",
       "9. 200.3\n",
       "10. 201.2\n",
       "11. 201.6\n",
       "12. 201.5\n",
       "13. 201.5\n",
       "14. 203.5\n",
       "15. 204.9\n",
       "16. 207.1\n",
       "17. 210.5\n",
       "18. 210.5\n",
       "19. 209.8\n",
       "20. 208.8\n",
       "21. 209.5\n",
       "22. 213.2\n",
       "23. 213.7\n",
       "24. 215.1\n",
       "25. 218.7\n",
       "26. 219.8\n",
       "27. 220.5\n",
       "28. 223.8\n",
       "29. 222.8\n",
       "30. 223.8\n",
       "31. 221.7\n",
       "32. 222.3\n",
       "33. 220.8\n",
       "34. 219.4\n",
       "35. 220.1\n",
       "36. 220.6\n",
       "37. 218.9\n",
       "38. 217.8\n",
       "39. 217.7\n",
       "40. 215\n",
       "41. 215.3\n",
       "42. 215.9\n",
       "43. 216.7\n",
       "44. 216.7\n",
       "45. 217.7\n",
       "46. 218.7\n",
       "47. 222.9\n",
       "48. 224.9\n",
       "49. 222.2\n",
       "50. 220.7\n",
       "51. 220\n",
       "52. 218.7\n",
       "53. 217\n",
       "54. 215.9\n",
       "55. 215.8\n",
       "56. 214.1\n",
       "57. 212.3\n",
       "58. 213.9\n",
       "59. 214.6\n",
       "60. 213.6\n",
       "61. 212.1\n",
       "62. 211.4\n",
       "63. 213.1\n",
       "64. 212.9\n",
       "65. 213.3\n",
       "66. 211.5\n",
       "67. 212.3\n",
       "68. 213\n",
       "69. 211\n",
       "70. 210.7\n",
       "71. 210.1\n",
       "72. 211.4\n",
       "73. 210\n",
       "74. 209.7\n",
       "75. 208.8\n",
       "76. 208.8\n",
       "77. 208.8\n",
       "78. 210.6\n",
       "79. 211.9\n",
       "80. 212.8\n",
       "81. 212.5\n",
       "82. 214.8\n",
       "83. 215.3\n",
       "84. 217.5\n",
       "85. 218.8\n",
       "86. 220.7\n",
       "87. 222.2\n",
       "88. 226.7\n",
       "89. 228.4\n",
       "90. 233.2\n",
       "91. 235.7\n",
       "92. 237.1\n",
       "93. 240.6\n",
       "94. 243.8\n",
       "95. 245.3\n",
       "96. 246\n",
       "97. 246.3\n",
       "98. 247.7\n",
       "99. 247.6\n",
       "100. 247.8\n",
       "101. 249.4\n",
       "102. 249\n",
       "103. 249.9\n",
       "104. 250.5\n",
       "105. 251.5\n",
       "106. 249\n",
       "107. 247.6\n",
       "108. 248.8\n",
       "109. 250.4\n",
       "110. 250.7\n",
       "111. 253\n",
       "112. 253.7\n",
       "113. 255\n",
       "114. 256.2\n",
       "115. 256\n",
       "116. 257.4\n",
       "117. 260.4\n",
       "118. 260\n",
       "119. 261.3\n",
       "120. 260.4\n",
       "121. 261.6\n",
       "122. 260.8\n",
       "123. 259.8\n",
       "124. 259\n",
       "125. 258.9\n",
       "126. 257.4\n",
       "127. 257.7\n",
       "128. 257.9\n",
       "129. 257.4\n",
       "130. 257.3\n",
       "131. 257.6\n",
       "132. 258.9\n",
       "133. 257.8\n",
       "134. 257.7\n",
       "135. 257.2\n",
       "136. 257.5\n",
       "137. 256.8\n",
       "138. 257.5\n",
       "139. 257\n",
       "140. 257.6\n",
       "141. 257.3\n",
       "142. 257.5\n",
       "143. 259.6\n",
       "144. 261.1\n",
       "145. 262.9\n",
       "146. 263.3\n",
       "147. 262.8\n",
       "148. 261.8\n",
       "149. 262.2\n",
       "150. 262.7\n",
       "\n",
       "\n"
      ],
      "text/plain": [
       "A Time Series:\n",
       "  [1] 200.1 199.5 199.4 198.9 199.0 200.2 198.6 200.0 200.3 201.2 201.6 201.5\n",
       " [13] 201.5 203.5 204.9 207.1 210.5 210.5 209.8 208.8 209.5 213.2 213.7 215.1\n",
       " [25] 218.7 219.8 220.5 223.8 222.8 223.8 221.7 222.3 220.8 219.4 220.1 220.6\n",
       " [37] 218.9 217.8 217.7 215.0 215.3 215.9 216.7 216.7 217.7 218.7 222.9 224.9\n",
       " [49] 222.2 220.7 220.0 218.7 217.0 215.9 215.8 214.1 212.3 213.9 214.6 213.6\n",
       " [61] 212.1 211.4 213.1 212.9 213.3 211.5 212.3 213.0 211.0 210.7 210.1 211.4\n",
       " [73] 210.0 209.7 208.8 208.8 208.8 210.6 211.9 212.8 212.5 214.8 215.3 217.5\n",
       " [85] 218.8 220.7 222.2 226.7 228.4 233.2 235.7 237.1 240.6 243.8 245.3 246.0\n",
       " [97] 246.3 247.7 247.6 247.8 249.4 249.0 249.9 250.5 251.5 249.0 247.6 248.8\n",
       "[109] 250.4 250.7 253.0 253.7 255.0 256.2 256.0 257.4 260.4 260.0 261.3 260.4\n",
       "[121] 261.6 260.8 259.8 259.0 258.9 257.4 257.7 257.9 257.4 257.3 257.6 258.9\n",
       "[133] 257.8 257.7 257.2 257.5 256.8 257.5 257.0 257.6 257.3 257.5 259.6 261.1\n",
       "[145] 262.9 263.3 262.8 261.8 262.2 262.7"
      ]
     },
     "metadata": {},
     "output_type": "display_data"
    }
   ],
   "source": [
    "BJsales"
   ]
  },
  {
   "cell_type": "code",
   "execution_count": 5,
   "metadata": {},
   "outputs": [
    {
     "data": {
      "text/plain": [
       "\n",
       "Autocorrelations of series 'BJsales', by lag\n",
       "\n",
       "    0     1     2     3     4     5     6     7     8     9    10    11    12 \n",
       "1.000 0.983 0.965 0.945 0.923 0.899 0.875 0.850 0.825 0.801 0.777 0.753 0.728 \n",
       "   13    14    15    16    17    18    19    20    21 \n",
       "0.702 0.678 0.653 0.630 0.608 0.585 0.561 0.538 0.514 "
      ]
     },
     "metadata": {},
     "output_type": "display_data"
    },
    {
     "data": {
      "image/png": "[encoded data removed]",
      "text/plain": [
       "Plot with title \"Series  BJsales\""
      ]
     },
     "metadata": {
      "image/png": {
       "height": 420,
       "width": 420
      },
      "text/plain": {
       "height": 420,
       "width": 420
      }
     },
     "output_type": "display_data"
    }
   ],
   "source": [
    "a <- acf(BJsales)\n",
    "a"
   ]
  },
  {
   "cell_type": "markdown",
   "metadata": {},
   "source": [
    "### 地道に...。"
   ]
  },
  {
   "cell_type": "code",
   "execution_count": 6,
   "metadata": {},
   "outputs": [
    {
     "data": {
      "text/html": [
       "67595.995316"
      ],
      "text/latex": [
       "67595.995316"
      ],
      "text/markdown": [
       "67595.995316"
      ],
      "text/plain": [
       "[1] 67596"
      ]
     },
     "metadata": {},
     "output_type": "display_data"
    },
    {
     "data": {
      "text/html": [
       "453.66439809396"
      ],
      "text/latex": [
       "453.66439809396"
      ],
      "text/markdown": [
       "453.66439809396"
      ],
      "text/plain": [
       "[1] 453.6644"
      ]
     },
     "metadata": {},
     "output_type": "display_data"
    },
    {
     "data": {
      "text/html": [
       "461.376895302013"
      ],
      "text/latex": [
       "461.376895302013"
      ],
      "text/markdown": [
       "461.376895302013"
      ],
      "text/plain": [
       "[1] 461.3769"
      ]
     },
     "metadata": {},
     "output_type": "display_data"
    },
    {
     "data": {
      "text/html": [
       "0.983283737684773"
      ],
      "text/latex": [
       "0.983283737684773"
      ],
      "text/markdown": [
       "0.983283737684773"
      ],
      "text/plain": [
       "[1] 0.9832837"
      ]
     },
     "metadata": {},
     "output_type": "display_data"
    }
   ],
   "source": [
    "# 自己相関!!\n",
    "# resixには全y_tの値を代入\n",
    "resix <- BJsales[-length(BJsales)]\n",
    "# resix.0にy_t+1の値を代入\n",
    "resix.0 <- BJsales[-1]\n",
    "\n",
    "## 平均\n",
    "d.m <- mean(BJsales)\n",
    "\n",
    "### 時点tにおいて偏差の算出\n",
    "devi.t1 <- (resix - d.m)\n",
    "devi.t2 <- (resix.0 - d.m)\n",
    "\n",
    "# 自己共分散 Auto Covariance\n",
    "sum(devi.t1 * devi.t2)\n",
    "sum(devi.t1 * devi.t2) / length(resix)\n",
    "ac <- sum(devi.t1 * devi.t2) / length(resix)\n",
    "\n",
    "# ラグ0における分散\n",
    "var(BJsales)\n",
    "var0 <- var(BJsales)\n",
    "\n",
    "# 自己相関 Auto regression\n",
    "ac / var0"
   ]
  },
  {
   "cell_type": "code",
   "execution_count": 7,
   "metadata": {},
   "outputs": [
    {
     "ename": "ERROR",
     "evalue": "Error in eval(expr, envir, enclos):  オブジェクト 'resi' がありません \n",
     "output_type": "error",
     "traceback": [
      "Error in eval(expr, envir, enclos):  オブジェクト 'resi' がありません \nTraceback:\n"
     ]
    }
   ],
   "source": [
    "resi / c0\n",
    "c0 / resi"
   ]
  },
  {
   "cell_type": "markdown",
   "metadata": {},
   "source": [
    "### 散布図的に...。"
   ]
  },
  {
   "cell_type": "code",
   "execution_count": 8,
   "metadata": {},
   "outputs": [],
   "source": [
    "library(ggplot2)"
   ]
  },
  {
   "cell_type": "code",
   "execution_count": 9,
   "metadata": {
    "scrolled": false
   },
   "outputs": [
    {
     "data": {
      "text/html": [
       "0.997723615300258"
      ],
      "text/latex": [
       "0.997723615300258"
      ],
      "text/markdown": [
       "0.997723615300258"
      ],
      "text/plain": [
       "[1] 0.9977236"
      ]
     },
     "metadata": {},
     "output_type": "display_data"
    },
    {
     "data": {
      "image/png": "[encoded data removed]",
      "text/plain": [
       "plot without title"
      ]
     },
     "metadata": {
      "image/png": {
       "height": 420,
       "width": 420
      },
      "text/plain": {
       "height": 420,
       "width": 420
      }
     },
     "output_type": "display_data"
    },
    {
     "data": {
      "text/html": [
       "0.993945824169418"
      ],
      "text/latex": [
       "0.993945824169418"
      ],
      "text/markdown": [
       "0.993945824169418"
      ],
      "text/plain": [
       "[1] 0.9939458"
      ]
     },
     "metadata": {},
     "output_type": "display_data"
    },
    {
     "data": {
      "image/png": "[encoded data removed]",
      "text/plain": [
       "plot without title"
      ]
     },
     "metadata": {
      "image/png": {
       "height": 420,
       "width": 420
      },
      "text/plain": {
       "height": 420,
       "width": 420
      }
     },
     "output_type": "display_data"
    },
    {
     "data": {
      "text/html": [
       "0.988756742364927"
      ],
      "text/latex": [
       "0.988756742364927"
      ],
      "text/markdown": [
       "0.988756742364927"
      ],
      "text/plain": [
       "[1] 0.9887567"
      ]
     },
     "metadata": {},
     "output_type": "display_data"
    },
    {
     "data": {
      "image/png": "[encoded data removed]",
      "text/plain": [
       "plot without title"
      ]
     },
     "metadata": {
      "image/png": {
       "height": 420,
       "width": 420
      },
      "text/plain": {
       "height": 420,
       "width": 420
      }
     },
     "output_type": "display_data"
    },
    {
     "data": {
      "text/html": [
       "0.982355497681651"
      ],
      "text/latex": [
       "0.982355497681651"
      ],
      "text/markdown": [
       "0.982355497681651"
      ],
      "text/plain": [
       "[1] 0.9823555"
      ]
     },
     "metadata": {},
     "output_type": "display_data"
    },
    {
     "data": {
      "image/png": "[encoded data removed]",
      "text/plain": [
       "plot without title"
      ]
     },
     "metadata": {
      "image/png": {
       "height": 420,
       "width": 420
      },
      "text/plain": {
       "height": 420,
       "width": 420
      }
     },
     "output_type": "display_data"
    },
    {
     "data": {
      "text/html": [
       "0.97454930278673"
      ],
      "text/latex": [
       "0.97454930278673"
      ],
      "text/markdown": [
       "0.97454930278673"
      ],
      "text/plain": [
       "[1] 0.9745493"
      ]
     },
     "metadata": {},
     "output_type": "display_data"
    },
    {
     "data": {
      "image/png": "[encoded data removed]",
      "text/plain": [
       "plot without title"
      ]
     },
     "metadata": {
      "image/png": {
       "height": 420,
       "width": 420
      },
      "text/plain": {
       "height": 420,
       "width": 420
      }
     },
     "output_type": "display_data"
    }
   ],
   "source": [
    "# x1 = 1期目, x2 = 2期目\n",
    "x  <- as.numeric(BJsales)\n",
    "#x\n",
    "# 行末のxを削除\n",
    "x1 <- x[-length(x)]\n",
    "\n",
    "x <- as.numeric(BJsales)\n",
    "#y\n",
    "# 先頭行を削除\n",
    "x2 <- x[-1]\n",
    "\n",
    "ggplot(as.data.frame(cbind(x1, x2)), aes(x = x1, y = x2)) +\n",
    "  geom_point()\n",
    "cor(x1, x2)\n",
    "\n",
    "x1 <- x1[-length(x1)]\n",
    "x3 <- x2[-1]\n",
    "ggplot(as.data.frame(cbind(x1, x3)), aes(x = x1, y = x3)) +\n",
    "  geom_point()\n",
    "cor(x1, x3)\n",
    "\n",
    "x1 <- x1[-length(x1)]\n",
    "x4 <- x3[-1]\n",
    "ggplot(as.data.frame(cbind(x1, x4)), aes(x = x1, y = x4)) +\n",
    "  geom_point()\n",
    "cor(x1, x4)\n",
    "\n",
    "x1 <- x1[-length(x1)]\n",
    "x5 <- x4[-1]\n",
    "ggplot(as.data.frame(cbind(x1, x5)), aes(x = x1, y = x5)) +\n",
    "  geom_point()\n",
    "cor(x1, x5)\n",
    "\n",
    "x1 <- x1[-length(x1)]\n",
    "x6 <- x5[-1]\n",
    "ggplot(as.data.frame(cbind(x1, x6)), aes(x = x1, y = x6)) +\n",
    "  geom_point()\n",
    "cor(x1, x6)"
   ]
  },
  {
   "cell_type": "markdown",
   "metadata": {},
   "source": [
    "\n",
    "### 時系列的に...。"
   ]
  },
  {
   "cell_type": "code",
   "execution_count": 10,
   "metadata": {
    "scrolled": false
   },
   "outputs": [
    {
     "data": {
      "image/png": "[encoded data removed]",
      "text/plain": [
       "plot without title"
      ]
     },
     "metadata": {
      "image/png": {
       "height": 420,
       "width": 420
      },
      "text/plain": {
       "height": 420,
       "width": 420
      }
     },
     "output_type": "display_data"
    },
    {
     "data": {
      "image/png": "[encoded data removed]",
      "text/plain": [
       "plot without title"
      ]
     },
     "metadata": {
      "image/png": {
       "height": 420,
       "width": 420
      },
      "text/plain": {
       "height": 420,
       "width": 420
      }
     },
     "output_type": "display_data"
    },
    {
     "data": {
      "image/png": "[encoded data removed]",
      "text/plain": [
       "Plot with title \"Series  BJsales\""
      ]
     },
     "metadata": {
      "image/png": {
       "height": 420,
       "width": 420
      },
      "text/plain": {
       "height": 420,
       "width": 420
      }
     },
     "output_type": "display_data"
    },
    {
     "data": {
      "image/png": "[encoded data removed]",
      "text/plain": [
       "Plot with title \"Series  BJsales\""
      ]
     },
     "metadata": {
      "image/png": {
       "height": 420,
       "width": 420
      },
      "text/plain": {
       "height": 420,
       "width": 420
      }
     },
     "output_type": "display_data"
    },
    {
     "data": {
      "image/png": "[encoded data removed]",
      "text/plain": [
       "plot without title"
      ]
     },
     "metadata": {
      "image/png": {
       "height": 420,
       "width": 420
      },
      "text/plain": {
       "height": 420,
       "width": 420
      }
     },
     "output_type": "display_data"
    }
   ],
   "source": [
    "# 1期目\n",
    "h1 <- as.numeric(BJsales)\n",
    "time1 <- c(1:150)\n",
    "group1 <- 1\n",
    "h11 <- as.data.frame(cbind(time1, h1, group1))\n",
    "names(h11)  <- c(\"time\", \"h\", \"group\")\n",
    "#h11\n",
    "\n",
    "# 2期目\n",
    "h2 <- as.numeric(BJsales)\n",
    "time2 <- c(2:151)\n",
    "group2 <- 2\n",
    "h12 <- as.data.frame(cbind(time2, h2, group2))\n",
    "names(h12)  <- c(\"time\", \"h\", \"group\")\n",
    "#h12\n",
    "\n",
    "# 3期目\n",
    "h3 <- as.numeric(BJsales)\n",
    "time3 <- c(3:152)\n",
    "group3 <- 3\n",
    "h13 <- as.data.frame(cbind(time3, h3, group3))\n",
    "names(h13)  <- c(\"time\", \"h\", \"group\")\n",
    "#h13\n",
    "\n",
    "# 4期目\n",
    "h4 <- as.numeric(BJsales)\n",
    "time4 <- c(4:153)\n",
    "group4 <- 4\n",
    "h14 <- as.data.frame(cbind(time4, h4, group4))\n",
    "names(h14)  <- c(\"time\", \"h\", \"group\")\n",
    "#h14\n",
    "\n",
    "# 5期目\n",
    "h5 <- as.numeric(BJsales)\n",
    "time5 <- c(5:154)\n",
    "group5 <- 5\n",
    "h15 <- as.data.frame(cbind(time5, h5, group5))\n",
    "names(h15)  <- c(\"time\", \"h\", \"group\")\n",
    "#h15\n",
    "\n",
    "# 6期目\n",
    "h6 <- as.numeric(BJsales)\n",
    "time6 <- c(5:154)\n",
    "group6 <- 5\n",
    "h16 <- as.data.frame(cbind(time6, h6, group6))\n",
    "names(h16)  <- c(\"time\", \"h\", \"group\")\n",
    "#h16\n",
    "\n",
    "\n",
    "# 10期目\n",
    "h10 <- as.numeric(BJsales)\n",
    "time10 <- c(9:158)\n",
    "group10 <- 9\n",
    "h110 <- as.data.frame(cbind(time10, h10, group10))\n",
    "names(h110)  <- c(\"time\", \"h\", \"group\")\n",
    "#h10\n",
    "\n",
    "\n",
    "# 全体\n",
    "hx <- rbind(h11, h12, h13, h14, h15, h16)\n",
    "# 一部\n",
    "hone <- rbind(h11, h110)\n",
    "\n",
    "\n",
    "ggplot(hx, aes(x = time, y = h, fill = group, colour = group)) +\n",
    "  geom_point()\n",
    "\n",
    "ggplot(hone, aes(x = time, y = h, fill = group, colour = group)) +\n",
    "  geom_point()\n",
    "\n",
    "\n",
    "acf(BJsales)\n",
    "acf(BJsales, lag.max = 50)\n",
    "plot(BJsales)"
   ]
  }
 ],
 "metadata": {
  "kernelspec": {
   "display_name": "R",
   "language": "R",
   "name": "ir"
  },
  "language_info": {
   "codemirror_mode": "r",
   "file_extension": ".r",
   "mimetype": "text/x-r-source",
   "name": "R",
   "pygments_lexer": "r",
   "version": "3.6.1"
  }
 },
 "nbformat": 4,
 "nbformat_minor": 2
}
